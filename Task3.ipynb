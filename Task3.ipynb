{
  "cells": [
    {
      "cell_type": "code",
      "execution_count": null,
      "metadata": {
        "id": "RxhsREKK2WOQ"
      },
      "outputs": [],
      "source": [
        "import numpy as np\n",
        "import matplotlib.pyplot as plt\n",
        "\n",
        "def circle_and_ring_sampling(n, radius, eps=0):\n",
        "    half_n = n // 2\n",
        "    x1 = np.zeros((half_n, 2))\n",
        "    r = np.random.uniform(0, radius / 2, half_n) + np.random.uniform(-eps, eps, half_n)\n",
        "    phi = np.random.uniform(0, 2 * np.pi, half_n)\n",
        "    x1[:, 0] = r * np.sin(phi)\n",
        "    x1[:, 1] = r * np.cos(phi)\n",
        "\n",
        "    x2 = np.zeros((half_n, 2))\n",
        "    r = np.random.uniform(radius / 2, radius, half_n) + np.random.uniform(-eps, eps, half_n)\n",
        "    phi = np.random.uniform(0, 2 * np.pi, half_n)\n",
        "    x2[:, 0] = r * np.sin(phi)\n",
        "    x2[:, 1] = r * np.cos(phi)\n",
        "\n",
        "    return x1, x2\n",
        "\n",
        "def xor_sampling(n, length, eps=0):\n",
        "    half_n = n // 2\n",
        "    x1 = np.zeros((half_n, 2))\n",
        "    x1[:, 0] = np.concatenate((np.random.uniform(0, length, half_n // 2), np.random.uniform(-length, 0, half_n // 2))) + np.random.uniform(-eps, eps, half_n)\n",
        "    x1[:, 1] = np.concatenate((np.random.uniform(0, length, half_n // 2), np.random.uniform(-length, 0, half_n // 2))) + np.random.uniform(-eps, eps, half_n)\n",
        "\n",
        "    x2 = np.zeros((half_n, 2))\n",
        "    x2[:, 0] = np.concatenate((np.random.uniform(0, length, half_n // 2), np.random.uniform(-length, 0, half_n // 2))) + np.random.uniform(-eps, eps, half_n)\n",
        "    x2[:, 1] = np.concatenate((np.random.uniform(-length, 0, half_n // 2), np.random.uniform(0, length, half_n // 2))) + np.random.uniform(-eps, eps, half_n)\n",
        "\n",
        "    return x1, x2\n",
        "\n",
        "def two_circles_sampling(n, length, eps=0):\n",
        "    half_n = n // 2\n",
        "\n",
        "    x1 = np.zeros((half_n, 2))\n",
        "    r1 = np.random.uniform(0, length // 2, half_n)\n",
        "    phi1 = np.random.uniform(0, 2 * np.pi, half_n)\n",
        "    x1[:, 0] = r1 * np.cos(phi1) + np.random.uniform(-eps, eps, half_n) + length // 2\n",
        "    x1[:, 1] = r1 * np.sin(phi1) + np.random.uniform(-eps, eps, half_n) + length // 2\n",
        "\n",
        "    x2 = np.zeros((half_n, 2))\n",
        "    r2 = np.random.uniform(0, length // 2, half_n)\n",
        "    phi2 = np.random.uniform(0, 2 * np.pi, half_n)\n",
        "    x2[:, 0] = r2 * np.cos(phi2) + np.random.uniform(-eps, eps, half_n) - length // 2\n",
        "    x2[:, 1] = r2 * np.sin(phi2) + np.random.uniform(-eps, eps, half_n) - length // 2\n",
        "\n",
        "    return x1, x2\n",
        "\n",
        "\n",
        "def spirale_sampling(n, radius, eps=0):\n",
        "    half_n = n // 2\n",
        "\n",
        "    x1 = np.zeros((half_n, 2))\n",
        "    r = np.abs(np.random.uniform(0, radius, half_n))\n",
        "    r1 = r + np.random.uniform(-eps, eps, half_n)\n",
        "    phi = r\n",
        "    x1[:, 0] = r1 * np.cos(phi)\n",
        "    x1[:, 1] = r1 * np.sin(phi)\n",
        "\n",
        "    x2 = np.zeros((half_n, 2))\n",
        "    r = np.abs(np.random.uniform(0, radius, half_n))\n",
        "    r2 = r + np.random.uniform(-eps, eps, half_n)\n",
        "    phi = r + np.pi\n",
        "    x2[:, 0] = r2 * np.cos(phi)\n",
        "    x2[:, 1] = r2 * np.sin(phi)\n",
        "\n",
        "    return x1, x2"
      ]
    },
    {
      "cell_type": "code",
      "execution_count": null,
      "metadata": {
        "id": "Og8KLOt84zHz"
      },
      "outputs": [],
      "source": [
        "import torch\n",
        "import torch.nn as nn\n",
        "import torch.optim as optim\n",
        "\n",
        "def sigmoid(x):\n",
        "    return 1 / (1 + torch.exp(-x))\n",
        "\n",
        "def tanh(x):\n",
        "    return torch.tanh(x)\n",
        "\n",
        "def relu(x):\n",
        "    return torch.relu(x)\n",
        "\n",
        "class MultilayerPerceptron(nn.Module):\n",
        "    def __init__(self, layer_dims, activation='relu'):\n",
        "        super(MultilayerPerceptron, self).__init__()\n",
        "\n",
        "        self.activation = activation\n",
        "        self.layers = nn.ModuleList()\n",
        "\n",
        "        for i in range(len(layer_dims) - 1):\n",
        "            self.layers.append(nn.Linear(layer_dims[i], layer_dims[i + 1]))\n",
        "\n",
        "    def forward(self, x):\n",
        "        for layer in self.layers[:-1]:\n",
        "            if self.activation == 'sigmoid':\n",
        "                x = sigmoid(layer(x))\n",
        "            elif self.activation == 'tanh':\n",
        "                x = tanh(layer(x))\n",
        "            elif self.activation == 'relu':\n",
        "                x = relu(layer(x))\n",
        "\n",
        "        x = self.layers[-1](x)\n",
        "        return x\n",
        "\n",
        "    def fit(self, x_train, y_train, learning_rate=0.01, batch_size=32, epochs=1000, logs=False):\n",
        "        loss = 0.0\n",
        "        criterion = nn.CrossEntropyLoss()\n",
        "        optimizer = optim.SGD(self.parameters(), lr=learning_rate)\n",
        "\n",
        "        for epoch in range(epochs):\n",
        "            for i in range(0, len(x_train), batch_size):\n",
        "                inputs = torch.tensor(x_train[i:i + batch_size], dtype=torch.float32)\n",
        "                targets = torch.tensor(y_train[i:i + batch_size], dtype=torch.long)\n",
        "\n",
        "                optimizer.zero_grad()\n",
        "                outputs = self(inputs)\n",
        "                loss = criterion(outputs, targets)\n",
        "                loss.backward()\n",
        "                optimizer.step()\n",
        "\n",
        "            if logs:\n",
        "              print(f\"Epoch {epoch + 1}/{epochs}, Loss: {loss.item()}\")\n",
        "\n",
        "\n",
        "    def predict(self, x):\n",
        "        with torch.no_grad():\n",
        "            inputs = torch.tensor(x, dtype=torch.float32)\n",
        "            outputs = self(inputs)\n",
        "            _, predicted = torch.max(outputs, 1)\n",
        "            return predicted.numpy()"
      ]
    },
    {
      "cell_type": "code",
      "execution_count": null,
      "metadata": {
        "id": "AEJAtX1y5C4S"
      },
      "outputs": [],
      "source": [
        "from time import time\n",
        "from sklearn.model_selection import train_test_split\n",
        "from sklearn.metrics import ConfusionMatrixDisplay, confusion_matrix, make_scorer, accuracy_score\n",
        "\n",
        "def fit_check_metrics(model, x, y, learning_rate=0.01, batch_size=32, epochs=1000):\n",
        "    x_train, x_test, y_train, y_test = train_test_split(x, y, random_state=42)\n",
        "\n",
        "    start_time = time()\n",
        "    model.fit(x_train, y_train, learning_rate, batch_size, epochs)\n",
        "    end_time = time()\n",
        "\n",
        "    y_pred = model.predict(x_test)\n",
        "    accuracy = accuracy_score(y_test, y_pred)\n",
        "    matrix = confusion_matrix(y_test, y_pred)\n",
        "\n",
        "    print(f'Accuracy: {accuracy}')\n",
        "    print(f'Fit time: {end_time - start_time} seconds')\n",
        "\n",
        "    ConfusionMatrixDisplay(matrix, display_labels=[0, 1]).plot(\n",
        "        include_values=True, cmap='Blues')\n",
        "    plt.title('Confusion Matrix')\n",
        "    plt.show()"
      ]
    },
    {
      "cell_type": "code",
      "execution_count": null,
      "metadata": {
        "colab": {
          "base_uri": "https://localhost:8080/",
          "height": 507
        },
        "collapsed": true,
        "id": "OkQk9srKRDyM",
        "outputId": "15783195-df69-417a-bbfb-d51b20e0e778"
      },
      "outputs": [
        {
          "name": "stdout",
          "output_type": "stream",
          "text": [
            "Accuracy: 0.94\n",
            "Fit time: 21.547434091567993 seconds\n"
          ]
        },
        {
          "data": {
            "image/png": "[encoded data removed]",
            "text/plain": [
              "<Figure size 640x480 with 2 Axes>"
            ]
          },
          "metadata": {},
          "output_type": "display_data"
        }
      ],
      "source": [
        "N = 1000\n",
        "x1, x2 = circle_and_ring_sampling(1000, 10, 1.5)\n",
        "x = np.concatenate((x1, x2))\n",
        "y = np.concatenate((np.zeros(N // 2), np.ones(N // 2)))\n",
        "\n",
        "model = MultilayerPerceptron([2, 5, 2], activation='relu')\n",
        "\n",
        "fit_check_metrics(model, x, y)"
      ]
    },
    {
      "cell_type": "code",
      "execution_count": null,
      "metadata": {
        "colab": {
          "base_uri": "https://localhost:8080/",
          "height": 507
        },
        "collapsed": true,
        "id": "nfwlJXcMRFml",
        "outputId": "cc11a608-1372-4e8f-9bac-14eb90017006"
      },
      "outputs": [
        {
          "name": "stdout",
          "output_type": "stream",
          "text": [
            "Accuracy: 0.904\n",
            "Fit time: 19.799880266189575 seconds\n"
          ]
        },
        {
          "data": {
            "image/png": "[encoded data removed]",
            "text/plain": [
              "<Figure size 640x480 with 2 Axes>"
            ]
          },
          "metadata": {},
          "output_type": "display_data"
        }
      ],
      "source": [
        "N = 1000\n",
        "x1, x2 = xor_sampling(1000, 10, 1.5)\n",
        "x = np.concatenate((x1, x2))\n",
        "y = np.concatenate((np.zeros(N // 2), np.ones(N // 2)))\n",
        "\n",
        "model = MultilayerPerceptron([2, 4, 3], activation='relu')\n",
        "fit_check_metrics(model, x, y)"
      ]
    },
    {
      "cell_type": "code",
      "execution_count": null,
      "metadata": {
        "colab": {
          "base_uri": "https://localhost:8080/",
          "height": 507
        },
        "collapsed": true,
        "id": "F-D2BoEXRHen",
        "outputId": "e4abf5e9-0df5-4f5e-868b-c0ce88f18a59"
      },
      "outputs": [
        {
          "name": "stdout",
          "output_type": "stream",
          "text": [
            "Accuracy: 0.984\n",
            "Fit time: 11.69184947013855 seconds\n"
          ]
        },
        {
          "data": {
            "image/png": "[encoded data removed]",
            "text/plain": [
              "<Figure size 640x480 with 2 Axes>"
            ]
          },
          "metadata": {},
          "output_type": "display_data"
        }
      ],
      "source": [
        "N = 1000\n",
        "x1, x2 = two_circles_sampling(1000, 10, 4.5)\n",
        "x = np.concatenate((x1, x2))\n",
        "y = np.concatenate((np.zeros(N // 2), np.ones(N // 2)))\n",
        "\n",
        "model = MultilayerPerceptron([2, 2], activation='relu')\n",
        "fit_check_metrics(model, x, y)"
      ]
    },
    {
      "cell_type": "code",
      "execution_count": null,
      "metadata": {
        "colab": {
          "base_uri": "https://localhost:8080/",
          "height": 507
        },
        "collapsed": true,
        "id": "N9v937FxRJRu",
        "outputId": "d8c6e660-b736-4a25-cb48-9c0bc8865f76"
      },
      "outputs": [
        {
          "name": "stdout",
          "output_type": "stream",
          "text": [
            "Accuracy: 0.93\n",
            "Fit time: 38.45337438583374 seconds\n"
          ]
        },
        {
          "data": {
            "image/png": "[encoded data removed]",
            "text/plain": [
              "<Figure size 640x480 with 2 Axes>"
            ]
          },
          "metadata": {},
          "output_type": "display_data"
        }
      ],
      "source": [
        "N = 2000\n",
        "x1, x2 = spirale_sampling(N, 10, 1.5)\n",
        "x = np.concatenate((x1, x2))\n",
        "y = np.concatenate((np.zeros(N // 2), np.ones(N // 2)))\n",
        "\n",
        "model = MultilayerPerceptron([2, 5, 5, 5, 5], activation='relu')\n",
        "fit_check_metrics(model, x, y)"
      ]
    },
    {
      "cell_type": "code",
      "execution_count": null,
      "metadata": {
        "id": "TDwKuFVpRLdC"
      },
      "outputs": [],
      "source": [
        "import copy\n",
        "from sklearn.model_selection import train_test_split\n",
        "from sklearn.metrics import accuracy_score\n",
        "\n",
        "def test_model_by_sample_size(model, gen_sample):\n",
        "  for n in range(100, 5000, 100):\n",
        "    print(f\"Test with sample size: {n}\")\n",
        "    model_copy = copy.deepcopy(model)\n",
        "    x1, x2 = gen_sample(n)\n",
        "    x = np.concatenate((x1, x2))\n",
        "    y = np.concatenate((np.zeros(n // 2), np.ones(n // 2)))\n",
        "\n",
        "    x_train, x_test, y_train, y_test = train_test_split(x, y, random_state=42)\n",
        "\n",
        "    model_copy.fit(x_train, y_train)\n",
        "\n",
        "    y_pred = model_copy.predict(x_test)\n",
        "    accuracy = accuracy_score(y_test, y_pred)\n",
        "    print(f'Accuracy: {accuracy}')\n",
        "\n",
        "    if accuracy >= 0.9:\n",
        "      print(f\"Found sample size: {n}\")\n",
        "      return"
      ]
    },
    {
      "cell_type": "code",
      "execution_count": null,
      "metadata": {
        "colab": {
          "base_uri": "https://localhost:8080/"
        },
        "collapsed": true,
        "id": "CFzz4nxQRN5C",
        "outputId": "fabd758a-0ac2-49a6-cffb-0eac8fca4724"
      },
      "outputs": [
        {
          "name": "stdout",
          "output_type": "stream",
          "text": [
            "Test with sample size: 100\n",
            "Accuracy: 0.88\n",
            "Test with sample size: 200\n",
            "Accuracy: 0.8\n",
            "Test with sample size: 300\n",
            "Accuracy: 0.9066666666666666\n",
            "Found sample size: 300\n"
          ]
        }
      ],
      "source": [
        "model = MultilayerPerceptron([2, 5, 2], activation='relu')\n",
        "test_model_by_sample_size(model, lambda n: circle_and_ring_sampling(n, 10, 1.5))"
      ]
    },
    {
      "cell_type": "code",
      "execution_count": null,
      "metadata": {
        "colab": {
          "base_uri": "https://localhost:8080/"
        },
        "collapsed": true,
        "id": "XAKBlpMNRQcC",
        "outputId": "a0358345-235a-48f8-ba76-775d4ebf5184"
      },
      "outputs": [
        {
          "name": "stdout",
          "output_type": "stream",
          "text": [
            "Test with sample size: 100\n",
            "Accuracy: 0.92\n",
            "Found sample size: 100\n"
          ]
        }
      ],
      "source": [
        "model = MultilayerPerceptron([2, 4, 2], activation='relu')\n",
        "test_model_by_sample_size(model, lambda n: xor_sampling(n, 10, 1.5))"
      ]
    },
    {
      "cell_type": "code",
      "execution_count": null,
      "metadata": {
        "colab": {
          "base_uri": "https://localhost:8080/"
        },
        "collapsed": true,
        "id": "r8LW5qpNRRv2",
        "outputId": "3e5dd300-acc0-4526-ae3f-5c08cebbca27"
      },
      "outputs": [
        {
          "name": "stdout",
          "output_type": "stream",
          "text": [
            "Test with sample size: 100\n",
            "Accuracy: 1.0\n",
            "Found sample size: 100\n"
          ]
        }
      ],
      "source": [
        "model = MultilayerPerceptron([2, 2], activation='relu')\n",
        "test_model_by_sample_size(model, lambda n: two_circles_sampling(n, 10, 6))"
      ]
    },
    {
      "cell_type": "code",
      "execution_count": null,
      "metadata": {
        "colab": {
          "base_uri": "https://localhost:8080/"
        },
        "collapsed": true,
        "id": "NZrwZ6SiRU9A",
        "outputId": "5fac3647-77c6-429d-a2ff-d45045fb1e07"
      },
      "outputs": [
        {
          "name": "stdout",
          "output_type": "stream",
          "text": [
            "Test with sample size: 100\n",
            "Accuracy: 0.48\n",
            "Test with sample size: 200\n",
            "Accuracy: 0.52\n",
            "Test with sample size: 300\n",
            "Accuracy: 0.6533333333333333\n",
            "Test with sample size: 400\n",
            "Accuracy: 0.58\n",
            "Test with sample size: 500\n",
            "Accuracy: 0.752\n",
            "Test with sample size: 600\n",
            "Accuracy: 0.6733333333333333\n",
            "Test with sample size: 700\n",
            "Accuracy: 0.6971428571428572\n",
            "Test with sample size: 800\n",
            "Accuracy: 0.71\n",
            "Test with sample size: 900\n",
            "Accuracy: 0.9155555555555556\n",
            "Found sample size: 900\n"
          ]
        }
      ],
      "source": [
        "model = MultilayerPerceptron([2, 5, 5, 5, 5, 2], activation='relu')\n",
        "test_model_by_sample_size(model, lambda n: spirale_sampling(n, 10, 1.5))"
      ]
    },
    {
      "cell_type": "code",
      "execution_count": null,
      "metadata": {
        "id": "PzEZMdQCRY5b"
      },
      "outputs": [],
      "source": [
        "from sklearn.model_selection import KFold\n",
        "from sklearn.metrics import accuracy_score\n",
        "\n",
        "def cross_validate(model, x, y, n_splits=5):\n",
        "    kf = KFold(n_splits=n_splits, shuffle=True)\n",
        "    accuracies = []\n",
        "\n",
        "    for train_index, test_index in kf.split(x):\n",
        "        x_train, x_test = x[train_index], x[test_index]\n",
        "        y_train, y_test = y[train_index], y[test_index]\n",
        "\n",
        "        model.fit(x_train, y_train)\n",
        "        y_pred = model.predict(x_test)\n",
        "        accuracy = accuracy_score(y_test, y_pred)\n",
        "        accuracies.append(accuracy)\n",
        "\n",
        "    return np.mean(accuracies)"
      ]
    },
    {
      "cell_type": "code",
      "execution_count": null,
      "metadata": {
        "id": "q_gSnWVqRcdj"
      },
      "outputs": [],
      "source": [
        "def test_model_by_activation_and_layer_count(activations, layers, sample_gen):\n",
        "  x, y = sample_gen()\n",
        "  for activation in activations:\n",
        "    for layer_dims in layers:\n",
        "      print(f\"Test (layer_dims={layer_dims}, activation={activation}):\")\n",
        "      model = MultilayerPerceptron(layer_dims=layer_dims, activation=activation)\n",
        "      accuracy = cross_validate(model, x, y)\n",
        "      print(f\"Accuracy: {accuracy}\")"
      ]
    },
    {
      "cell_type": "code",
      "execution_count": null,
      "metadata": {
        "colab": {
          "base_uri": "https://localhost:8080/"
        },
        "collapsed": true,
        "id": "2frp3viyRyoy",
        "outputId": "b3dae28a-f15c-4320-bf78-0cb2747192b8"
      },
      "outputs": [
        {
          "name": "stdout",
          "output_type": "stream",
          "text": [
            "Test (layer_dims=[2, 5, 2], activation=sigmoid):\n",
            "Accuracy: 0.93\n",
            "Test (layer_dims=[2, 5, 2], activation=tanh):\n",
            "Accuracy: 0.9333333333333333\n",
            "Test (layer_dims=[2, 5, 2], activation=relu):\n",
            "Accuracy: 0.9333333333333332\n"
          ]
        }
      ],
      "source": [
        "activations = ['sigmoid', 'tanh', 'relu']\n",
        "layers = [[2, 5, 2]]\n",
        "def circle_and_ring_sample_gen():\n",
        "  n = 300\n",
        "  x1, x2 = circle_and_ring_sampling(n, 10, 1.5)\n",
        "  x = np.concatenate((x1, x2))\n",
        "  y = np.concatenate((np.zeros(n // 2), np.ones(n // 2)))\n",
        "  return x, y\n",
        "\n",
        "test_model_by_activation_and_layer_count(activations, layers, circle_and_ring_sample_gen)"
      ]
    },
    {
      "cell_type": "code",
      "execution_count": null,
      "metadata": {
        "colab": {
          "base_uri": "https://localhost:8080/"
        },
        "collapsed": true,
        "id": "o6EMiHyeR2zL",
        "outputId": "1921b926-66c2-4026-de6c-b3ebfa2447f8"
      },
      "outputs": [
        {
          "name": "stdout",
          "output_type": "stream",
          "text": [
            "Test (layer_dims=[2, 2], activation=relu):\n",
            "Accuracy: 0.37\n",
            "Test (layer_dims=[2, 5, 2], activation=relu):\n",
            "Accuracy: 0.9133333333333333\n",
            "Test (layer_dims=[2, 5, 5, 2], activation=relu):\n",
            "Accuracy: 0.9033333333333331\n",
            "Test (layer_dims=[2, 5, 5, 5, 2], activation=relu):\n",
            "Accuracy: 0.9099999999999999\n",
            "Test (layer_dims=[2, 5, 5, 5, 5, 2], activation=relu):\n",
            "Accuracy: 0.9233333333333332\n"
          ]
        }
      ],
      "source": [
        "\n",
        "activations = ['relu']\n",
        "layers = [[2, 2], [2, 5, 2], [2, 5, 5, 2], [2, 5, 5, 5, 2], [2, 5, 5, 5, 5, 2]]\n",
        "\n",
        "test_model_by_activation_and_layer_count(activations, layers, circle_and_ring_sample_gen)"
      ]
    },
    {
      "cell_type": "code",
      "execution_count": null,
      "metadata": {
        "colab": {
          "base_uri": "https://localhost:8080/"
        },
        "collapsed": true,
        "id": "c8nsoCkrR4IE",
        "outputId": "f9db48d7-d7ac-4de4-e285-65fad6691184"
      },
      "outputs": [
        {
          "name": "stdout",
          "output_type": "stream",
          "text": [
            "Test (layer_dims=[2, 4, 2], activation=sigmoid):\n",
            "Accuracy: 0.825\n",
            "Test (layer_dims=[2, 4, 2], activation=tanh):\n",
            "Accuracy: 0.89\n",
            "Test (layer_dims=[2, 4, 2], activation=relu):\n",
            "Accuracy: 0.925\n"
          ]
        }
      ],
      "source": [
        "\n",
        "activations = ['sigmoid', 'tanh', 'relu']\n",
        "layers = [[2, 4, 2]]\n",
        "def xor_sample_gen():\n",
        "  n = 200\n",
        "  x1, x2 = xor_sampling(n, 10, 1.5)\n",
        "  x = np.concatenate((x1, x2))\n",
        "  y = np.concatenate((np.zeros(n // 2), np.ones(n // 2)))\n",
        "  return x, y\n",
        "\n",
        "test_model_by_activation_and_layer_count(activations, layers, xor_sample_gen)"
      ]
    },
    {
      "cell_type": "code",
      "execution_count": null,
      "metadata": {
        "colab": {
          "base_uri": "https://localhost:8080/"
        },
        "collapsed": true,
        "id": "8enhMXgxR6bw",
        "outputId": "c4b80bea-3c03-4b51-e785-3c91481f3127"
      },
      "outputs": [
        {
          "name": "stdout",
          "output_type": "stream",
          "text": [
            "Test (layer_dims=[2, 2], activation=relu):\n",
            "Accuracy: 0.465\n",
            "Test (layer_dims=[2, 5, 2], activation=relu):\n",
            "Accuracy: 0.9099999999999999\n",
            "Test (layer_dims=[2, 5, 5, 2], activation=relu):\n",
            "Accuracy: 0.905\n",
            "Test (layer_dims=[2, 5, 5, 5, 2], activation=relu):\n",
            "Accuracy: 0.9\n",
            "Test (layer_dims=[2, 5, 5, 5, 5, 2], activation=relu):\n",
            "Accuracy: 0.8899999999999999\n"
          ]
        }
      ],
      "source": [
        "\n",
        "activations = ['relu']\n",
        "layers = [[2, 2], [2, 5, 2], [2, 5, 5, 2], [2, 5, 5, 5, 2], [2, 5, 5, 5, 5, 2]]\n",
        "\n",
        "test_model_by_activation_and_layer_count(activations, layers, xor_sample_gen)"
      ]
    },
    {
      "cell_type": "code",
      "execution_count": null,
      "metadata": {
        "colab": {
          "base_uri": "https://localhost:8080/"
        },
        "collapsed": true,
        "id": "FrVMr555R7p3",
        "outputId": "5bec7eb8-423c-4151-d9e5-4103c6a8f54d"
      },
      "outputs": [
        {
          "name": "stdout",
          "output_type": "stream",
          "text": [
            "Test (layer_dims=[2, 2], activation=sigmoid):\n",
            "Accuracy: 0.95\n",
            "Test (layer_dims=[2, 2], activation=tanh):\n",
            "Accuracy: 0.95\n",
            "Test (layer_dims=[2, 2], activation=relu):\n",
            "Accuracy: 0.96\n"
          ]
        }
      ],
      "source": [
        "activations = ['sigmoid', 'tanh', 'relu']\n",
        "layers = [[2, 2]]\n",
        "def two_circles_sample_gen():\n",
        "  n = 100\n",
        "  x1, x2 = two_circles_sampling(n, 10, 6)\n",
        "  x = np.concatenate((x1, x2))\n",
        "  y = np.concatenate((np.zeros(n // 2), np.ones(n // 2)))\n",
        "  return x, y\n",
        "\n",
        "test_model_by_activation_and_layer_count(activations, layers, two_circles_sample_gen)"
      ]
    },
    {
      "cell_type": "code",
      "execution_count": null,
      "metadata": {
        "colab": {
          "base_uri": "https://localhost:8080/"
        },
        "collapsed": true,
        "id": "VOny4Vs5R83O",
        "outputId": "f525d1ba-0190-4e60-cb3a-bd92907d191c"
      },
      "outputs": [
        {
          "name": "stdout",
          "output_type": "stream",
          "text": [
            "Test (layer_dims=[2, 2], activation=relu):\n",
            "Accuracy: 0.96\n",
            "Test (layer_dims=[2, 5, 2], activation=relu):\n",
            "Accuracy: 0.9800000000000001\n",
            "Test (layer_dims=[2, 5, 5, 2], activation=relu):\n",
            "Accuracy: 0.9800000000000001\n",
            "Test (layer_dims=[2, 5, 5, 5, 2], activation=relu):\n",
            "Accuracy: 0.9800000000000001\n",
            "Test (layer_dims=[2, 5, 5, 5, 5, 2], activation=relu):\n",
            "Accuracy: 0.9800000000000001\n"
          ]
        }
      ],
      "source": [
        "\n",
        "activations = ['relu']\n",
        "layers = [[2, 2], [2, 5, 2], [2, 5, 5, 2], [2, 5, 5, 5, 2], [2, 5, 5, 5, 5, 2]]\n",
        "\n",
        "test_model_by_activation_and_layer_count(activations, layers, two_circles_sample_gen)"
      ]
    },
    {
      "cell_type": "code",
      "execution_count": null,
      "metadata": {
        "colab": {
          "base_uri": "https://localhost:8080/"
        },
        "id": "_0Har166R-Jh",
        "outputId": "b3bb9dbf-be19-48b3-aeb7-685aa11c806c"
      },
      "outputs": [
        {
          "name": "stdout",
          "output_type": "stream",
          "text": [
            "Test (layer_dims=[2, 5, 5, 5, 5, 2], activation=sigmoid):\n",
            "Accuracy: 0.5\n",
            "Test (layer_dims=[2, 5, 5, 5, 5, 2], activation=tanh):\n",
            "Accuracy: 0.6418181818181818\n",
            "Test (layer_dims=[2, 5, 5, 5, 5, 2], activation=relu):\n",
            "Accuracy: 0.7709090909090909\n"
          ]
        }
      ],
      "source": [
        "\n",
        "activations = ['sigmoid', 'tanh', 'relu']\n",
        "layers = [[2, 5, 5, 5, 5, 2]]\n",
        "def spirale_sample_gen():\n",
        "  n = 900\n",
        "  x1, x2 = spirale_sampling(n, 10, 1.5)\n",
        "  x = np.concatenate((x1, x2))\n",
        "  y = np.concatenate((np.zeros(n // 2), np.ones(n // 2)))\n",
        "  return x, y\n",
        "\n",
        "test_model_by_activation_and_layer_count(activations, layers, spirale_sample_gen)"
      ]
    },
    {
      "cell_type": "code",
      "execution_count": null,
      "metadata": {
        "colab": {
          "background_save": true,
          "base_uri": "https://localhost:8080/"
        },
        "id": "ys9HA6QvR_Td",
        "outputId": "5b0c830d-03c0-4cad-e52a-d5585bc39d4d"
      },
      "outputs": [
        {
          "name": "stdout",
          "output_type": "stream",
          "text": [
            "Test (layer_dims=[2, 2], activation=relu):\n",
            "Accuracy: 0.5490909090909091\n",
            "Test (layer_dims=[2, 5, 2], activation=relu):\n",
            "Accuracy: 0.6618181818181819\n",
            "Test (layer_dims=[2, 5, 5, 2], activation=relu):\n",
            "Accuracy: 0.8381818181818183\n",
            "Test (layer_dims=[2, 5, 5, 5, 2], activation=relu):\n",
            "Accuracy: 0.8718181818181817\n",
            "Test (layer_dims=[2, 5, 5, 5, 5, 2], activation=relu):\n",
            "Accuracy: 0.8163636363636364\n"
          ]
        }
      ],
      "source": [
        "\n",
        "activations = ['relu']\n",
        "layers = [[2, 2], [2, 5, 2], [2, 5, 5, 2], [2, 5, 5, 5, 2], [2, 5, 5, 5, 5, 2]]\n",
        "\n",
        "test_model_by_activation_and_layer_count(activations, layers, spirale_sample_gen)"
      ]
    }
  ],
  "metadata": {
    "accelerator": "GPU",
    "colab": {
      "gpuType": "T4",
      "provenance": []
    },
    "kernelspec": {
      "display_name": "Python 3",
      "name": "python3"
    },
    "language_info": {
      "name": "python"
    }
  },
  "nbformat": 4,
  "nbformat_minor": 0
}